{
 "cells": [
  {
   "cell_type": "markdown",
   "metadata": {},
   "source": [
    "# Code"
   ]
  },
  {
   "cell_type": "code",
   "execution_count": 1,
   "metadata": {
    "code_folding": [
     0
    ]
   },
   "outputs": [],
   "source": [
    "def fix_and_reverse_numbers(num, dig):\n",
    "    fixed_number = num[::-1]\n",
    "    for i in range(dig - len(fixed_number)):\n",
    "        fixed_number+=\"0\"\n",
    "    return fixed_number"
   ]
  },
  {
   "cell_type": "code",
   "execution_count": 2,
   "metadata": {
    "code_folding": [
     0
    ]
   },
   "outputs": [],
   "source": [
    "def is_greater_or_equal(num1, num2, glyphs_base):\n",
    "    if(len(num1) > len(num2)):\n",
    "        return True\n",
    "    elif(len(num2) > len(num1)):\n",
    "        return False\n",
    "    elif(num1 == num2):\n",
    "        return True\n",
    "    \n",
    "    index = 0\n",
    "    \n",
    "    while index < len(num1) :\n",
    "        if(glyphs_base.index(num1[index]) > glyphs_base.index(num2[index])):\n",
    "            return True\n",
    "        elif(glyphs_base.index(num2[index]) > glyphs_base.index(num1[index])):\n",
    "            return False\n",
    "        else:\n",
    "            index+=1"
   ]
  },
  {
   "cell_type": "code",
   "execution_count": 3,
   "metadata": {
    "code_folding": [
     0
    ]
   },
   "outputs": [],
   "source": [
    "def add_single_digit_number(num1, num2, base, glyphs_base): \n",
    "  num1_index = glyphs_base.index(num1)\n",
    "  num2_index = glyphs_base.index(num2)\n",
    "  index_sum = num1_index + num2_index\n",
    "  sum = glyphs_base[index_sum//base] + glyphs_base[index_sum%base] if index_sum//base > 0 else glyphs_base[index_sum%base]\n",
    "  return sum"
   ]
  },
  {
   "cell_type": "code",
   "execution_count": 4,
   "metadata": {
    "code_folding": [
     0
    ]
   },
   "outputs": [],
   "source": [
    "def sub_single_digit_number(num1, num2, base, glyphs_base): \n",
    "  num1_index = glyphs_base.index(num1)\n",
    "  num2_index = glyphs_base.index(num2)\n",
    "  index_sub = num1_index - num2_index \n",
    "  fixed_index_sub = glyphs_base[index_sub] if index_sub >= 0 else \"-1\" + glyphs_base[base+index_sub]\n",
    "  return fixed_index_sub"
   ]
  },
  {
   "cell_type": "code",
   "execution_count": 5,
   "metadata": {
    "code_folding": [
     0
    ]
   },
   "outputs": [],
   "source": [
    "def ns_add(num1, num2, base, glyphs_base): \n",
    "    iterator =  len(num1) if len(num1)>len(num2)  else len(num2)\n",
    "    num1 = fix_and_reverse_numbers(num1, iterator)\n",
    "    num2 = fix_and_reverse_numbers(num2, iterator)\n",
    "    carry_forward = \"0\"\n",
    "    sum = \"\"\n",
    "    for i in range(iterator):\n",
    "      sum_single_digit = add_single_digit_number(num1[i],num2[i], base, glyphs_base)\n",
    "      sum_carry_forward = add_single_digit_number(carry_forward, sum_single_digit[len(sum_single_digit)-1], base, glyphs_base)\n",
    "      carry_forward = \"1\" if len(sum_single_digit)>1 or len(sum_carry_forward)>1 else \"0\"\n",
    "      sum = sum + sum_carry_forward[len(sum_carry_forward)-1]\n",
    "    sum = sum + carry_forward if carry_forward!=\"0\" else sum\n",
    "    return fix_and_reverse_numbers(sum, len(sum))"
   ]
  },
  {
   "cell_type": "code",
   "execution_count": 18,
   "metadata": {
    "code_folding": [
     0
    ]
   },
   "outputs": [],
   "source": [
    "def ns_sub(n1, n2, base, glyphs_base): \n",
    "    iterator =  len(n1) if len(n1)>len(n2)  else len(n2)\n",
    "    \n",
    "    num_comparison = is_greater_or_equal(n1, n2, glyphs_base)\n",
    "    num1 = n1 if num_comparison else n2\n",
    "    num2 = n2 if num_comparison else n1\n",
    "    sign = \"\" if num_comparison else \"-\"\n",
    "    num1 = fix_and_reverse_numbers(num1, iterator)\n",
    "    num2 = fix_and_reverse_numbers(num2, iterator)\n",
    "    \n",
    "    carry_backward = \"0\"\n",
    "    sub_res = \"\"\n",
    "    \n",
    "    for i in range(iterator):\n",
    "      sub_single_digit = sub_single_digit_number(num1[i],num2[i], base, glyphs_base)\n",
    "      sub_carry_backward = sub_single_digit_number(sub_single_digit[len(sub_single_digit)-1], carry_backward, base, glyphs_base)\n",
    "      carry_backward = \"1\" if len(sub_single_digit)>1 or len(sub_carry_backward)>1 else \"0\"\n",
    "      sub_res = sub_res + sub_carry_backward[len(sub_carry_backward)-1]\n",
    "    sub_res = sub_res + carry_backward if carry_backward!=\"0\" else sub_res\n",
    "    return sign + fix_and_reverse_numbers(sub_res, len(sub_res)) "
   ]
  },
  {
   "cell_type": "code",
   "execution_count": 7,
   "metadata": {
    "code_folding": [
     0
    ]
   },
   "outputs": [],
   "source": [
    "def print_number_system(number_to_print, base, glyphs_base):\n",
    "    start_num = glyphs_base[0]\n",
    "    ns = [\"0\"]\n",
    "    for x in range(number_to_print-1):\n",
    "        next_num = ns_add(start_num, \"1\", base, glyphs_base)\n",
    "        start_num = next_num\n",
    "        ns = ns + [next_num]\n",
    "\n",
    "    print (ns)"
   ]
  },
  {
   "cell_type": "code",
   "execution_count": 8,
   "metadata": {
    "code_folding": [
     0
    ]
   },
   "outputs": [],
   "source": [
    "def mult_any_number_with_single_digit(num, mult, base, glyphs_base):\n",
    "    num = fix_and_reverse_numbers(num, len(num))\n",
    "    carry_forward = \"0\"\n",
    "    ns_mult_res = \"\"\n",
    "    for i in range(len(num)):\n",
    "        sing_mult_sum=\"0\"\n",
    "        for j in range(glyphs_base.index(mult)):\n",
    "            sing_mult_sum = ns_add(sing_mult_sum, num[i], base, glyphs_base)\n",
    "        sing_mult_sum = ns_add(sing_mult_sum,carry_forward, base, glyphs_base)\n",
    "        ns_mult_res += sing_mult_sum[len(sing_mult_sum)-1]\n",
    "        carry_forward = sing_mult_sum[0:-1] if len(sing_mult_sum) > 0 else \"0\"\n",
    "    ns_mult_res = ns_mult_res + carry_forward if carry_forward!=\"0\" else ns_mult_res\n",
    "    return fix_and_reverse_numbers(ns_mult_res, len(ns_mult_res))"
   ]
  },
  {
   "cell_type": "code",
   "execution_count": 9,
   "metadata": {
    "code_folding": [
     0
    ]
   },
   "outputs": [],
   "source": [
    "def ns_mult(num1, num2, base, glyphs_base):\n",
    "    place_factor = \"\"\n",
    "    ns_mult_res = \"0\"\n",
    "    num2 = fix_and_reverse_numbers(num2, len(num2))\n",
    "    for i in range(len(num2)):\n",
    "        sing_mult_res = mult_any_number_with_single_digit(num1, num2[i], base, glyphs_base)+place_factor\n",
    "        ns_mult_res = ns_add(ns_mult_res, sing_mult_res, base, glyphs_base)\n",
    "        place_factor+=\"0\"\n",
    "    return ns_mult_res "
   ]
  },
  {
   "cell_type": "code",
   "execution_count": 10,
   "metadata": {
    "code_folding": [
     0
    ]
   },
   "outputs": [],
   "source": [
    "def single_dig_mult_table(glyphs_base):\n",
    "    all_dig_mult_array = []\n",
    "    for glyph in glyphs_base[1:]:\n",
    "        sing_dig_mult_array = []\n",
    "        for m_glyph in glyphs_base[1:]:\n",
    "            sing_dig_mult_array = sing_dig_mult_array + [ns_mult(glyph, m_glyph, base, glyphs_base)]\n",
    "        all_dig_mult_array.append(sing_dig_mult_array)\n",
    "    return all_dig_mult_array"
   ]
  },
  {
   "cell_type": "code",
   "execution_count": 11,
   "metadata": {
    "code_folding": [
     0
    ]
   },
   "outputs": [],
   "source": [
    "def conv_num_to_base_10(num, base, glyphs_base):\n",
    "    base10_num = 0\n",
    "    num=fix_and_reverse_numbers(num, len(num))\n",
    "    for i in range(len(num)):\n",
    "        base10_num += glyphs_base.index(num[i])*base**i\n",
    "    return base10_num"
   ]
  },
  {
   "cell_type": "code",
   "execution_count": 77,
   "metadata": {
    "code_folding": [
     0
    ]
   },
   "outputs": [],
   "source": [
    "def conv_num_to_base_n(num, basem, glyphs_basen):\n",
    "    num10 = int(conv_num_to_base_10(num, base, glyphs_basen))\n",
    "    basem_glyphs = glyphs[0:basem]\n",
    "    res = \"0\"\n",
    "    counter = 0\n",
    "    zero_counter=\"\"\n",
    "    rem = num10%basem\n",
    "    numm = num10 - rem\n",
    "    while numm > 0:\n",
    "        num_factor = numm//basem\n",
    "        if num_factor == 0:\n",
    "           res = ns_add(res, str(num10//basem**counter)+zero_counter, basem, basem_glyphs)\n",
    "           numm = num10%(basem**counter)\n",
    "           num10 = numm\n",
    "           counter = 0\n",
    "           zero_counter=\"\"\n",
    "        else:\n",
    "            counter+=1\n",
    "            zero_counter+=\"0\"\n",
    "            numm = num_factor\n",
    "    return res"
   ]
  },
  {
   "cell_type": "code",
   "execution_count": 26,
   "metadata": {
    "code_folding": [
     0
    ]
   },
   "outputs": [],
   "source": [
    "def cal_log10(num):\n",
    "    end = len(str(num))\n",
    "    start = end-1\n",
    "    \n",
    "    if 10**start == num:\n",
    "        return start\n",
    "    else:\n",
    "        return brute_force_log10(num, start, end)   "
   ]
  },
  {
   "cell_type": "code",
   "execution_count": 27,
   "metadata": {
    "code_folding": [
     0
    ]
   },
   "outputs": [],
   "source": [
    "def brute_force_log10(num, start, end):\n",
    "    pow_fact = (start+end)/2\n",
    "    calc_num = int(10**pow_fact)\n",
    "    if num==calc_num:\n",
    "        return pow_fact\n",
    "    elif num>calc_num:\n",
    "        return brute_force_log10(num, pow_fact,end)\n",
    "    else:\n",
    "        return brute_force_log10(num, start, pow_fact)    "
   ]
  },
  {
   "cell_type": "markdown",
   "metadata": {},
   "source": [
    "# Questions"
   ]
  },
  {
   "cell_type": "markdown",
   "metadata": {},
   "source": [
    "### Q1: Choose your base between 3 and 15\n",
    "\n",
    "A: 12"
   ]
  },
  {
   "cell_type": "code",
   "execution_count": 12,
   "metadata": {},
   "outputs": [],
   "source": [
    "base = 12\n",
    "glyphs = [\"0\", \"1\", \"2\", \"3\", \"4\", \"5\", \"6\", \"7\", \"8\", \"9\", \"A\", \"B\", \"C\", \"D\", \"E\"]\n",
    "glyphs_base = glyphs[0:base]"
   ]
  },
  {
   "cell_type": "code",
   "execution_count": 14,
   "metadata": {
    "scrolled": true
   },
   "outputs": [
    {
     "name": "stdout",
     "output_type": "stream",
     "text": [
      "['0', '1', '2', '3', '4', '5', '6', '7', '8', '9', 'A', 'B', '10', '11', '12', '13', '14', '15', '16', '17', '18', '19', '1A', '1B', '20', '21', '22', '23', '24', '25', '26', '27', '28', '29', '2A', '2B', '30', '31', '32', '33', '34', '35', '36', '37', '38', '39', '3A', '3B', '40', '41', '42', '43', '44', '45', '46', '47', '48', '49', '4A', '4B', '50', '51', '52', '53', '54', '55', '56', '57', '58', '59', '5A', '5B', '60', '61', '62', '63', '64', '65', '66', '67', '68', '69', '6A', '6B', '70', '71', '72', '73', '74', '75', '76', '77', '78', '79', '7A', '7B', '80', '81', '82', '83']\n"
     ]
    }
   ],
   "source": [
    "# Print Number system\n",
    "print_number_system(100, base, glyphs_base)"
   ]
  },
  {
   "cell_type": "markdown",
   "metadata": {},
   "source": [
    "### Q2: Add/Substraction single digit and multiple numbers in your number system"
   ]
  },
  {
   "cell_type": "code",
   "execution_count": 15,
   "metadata": {},
   "outputs": [],
   "source": [
    "num1 = \"A1265\"\n",
    "num2 = \"B44562\""
   ]
  },
  {
   "cell_type": "code",
   "execution_count": 16,
   "metadata": {},
   "outputs": [
    {
     "data": {
      "text/plain": [
       "'1025807'"
      ]
     },
     "execution_count": 16,
     "metadata": {},
     "output_type": "execute_result"
    }
   ],
   "source": [
    "ns_add(num1, num2, base, glyphs_base)"
   ]
  },
  {
   "cell_type": "code",
   "execution_count": 19,
   "metadata": {
    "scrolled": true
   },
   "outputs": [
    {
     "data": {
      "text/plain": [
       "'-A632B9'"
      ]
     },
     "execution_count": 19,
     "metadata": {},
     "output_type": "execute_result"
    }
   ],
   "source": [
    "ns_sub(num1, num2, base, glyphs_base)"
   ]
  },
  {
   "cell_type": "markdown",
   "metadata": {},
   "source": [
    "### Q3: Prepare a table of single digit multiplications in your number system.\n",
    "\n"
   ]
  },
  {
   "cell_type": "code",
   "execution_count": 21,
   "metadata": {},
   "outputs": [
    {
     "name": "stdout",
     "output_type": "stream",
     "text": [
      "[['1', '2', '3', '4', '5', '6', '7', '8', '9', 'A', 'B'], ['2', '4', '6', '8', 'A', '10', '12', '14', '16', '18', '1A'], ['3', '6', '9', '10', '13', '16', '19', '20', '23', '26', '29'], ['4', '8', '10', '14', '18', '20', '24', '28', '30', '34', '38'], ['5', 'A', '13', '18', '21', '26', '2B', '34', '39', '42', '47'], ['6', '10', '16', '20', '26', '30', '36', '40', '46', '50', '56'], ['7', '12', '19', '24', '2B', '36', '41', '48', '53', '5A', '65'], ['8', '14', '20', '28', '34', '40', '48', '54', '60', '68', '74'], ['9', '16', '23', '30', '39', '46', '53', '60', '69', '76', '83'], ['A', '18', '26', '34', '42', '50', '5A', '68', '76', '84', '92'], ['B', '1A', '29', '38', '47', '56', '65', '74', '83', '92', 'A1']]\n"
     ]
    }
   ],
   "source": [
    "print (single_dig_mult_table(glyphs_base))"
   ]
  },
  {
   "cell_type": "markdown",
   "metadata": {},
   "source": [
    "### Q4: Multiply multiple digits in your number system\n",
    "\n"
   ]
  },
  {
   "cell_type": "code",
   "execution_count": 22,
   "metadata": {},
   "outputs": [
    {
     "data": {
      "text/plain": [
       "'6A6'"
      ]
     },
     "execution_count": 22,
     "metadata": {},
     "output_type": "execute_result"
    }
   ],
   "source": [
    "ns_mult(\"13\", \"56\", base, glyphs_base)"
   ]
  },
  {
   "cell_type": "markdown",
   "metadata": {},
   "source": [
    "### Q5: Convert 1, 10, 20, 30, 100 from your base to base10."
   ]
  },
  {
   "cell_type": "code",
   "execution_count": 23,
   "metadata": {},
   "outputs": [
    {
     "name": "stdout",
     "output_type": "stream",
     "text": [
      "1\n",
      "12\n",
      "24\n",
      "36\n",
      "48\n",
      "60\n",
      "72\n",
      "144\n"
     ]
    }
   ],
   "source": [
    "print (conv_num_to_base_10(\"1\", base, glyphs_base))\n",
    "print (conv_num_to_base_10(\"10\", base, glyphs_base))\n",
    "print (conv_num_to_base_10(\"20\", base, glyphs_base))\n",
    "print (conv_num_to_base_10(\"30\", base, glyphs_base))\n",
    "print (conv_num_to_base_10(\"40\", base, glyphs_base))\n",
    "print (conv_num_to_base_10(\"50\", base, glyphs_base))\n",
    "print (conv_num_to_base_10(\"60\", base, glyphs_base))\n",
    "print (conv_num_to_base_10(\"100\", base, glyphs_base))"
   ]
  },
  {
   "cell_type": "markdown",
   "metadata": {},
   "source": [
    "### Q6. Write a strategy to convert a number in your base to base 10 in plain english or psedo code or code"
   ]
  },
  {
   "cell_type": "code",
   "execution_count": 24,
   "metadata": {},
   "outputs": [
    {
     "name": "stdout",
     "output_type": "stream",
     "text": [
      "210\n",
      "38\n"
     ]
    }
   ],
   "source": [
    "print (conv_num_to_base_10(\"156\", base, glyphs_base))\n",
    "print (conv_num_to_base_10(\"32\", base, glyphs_base))"
   ]
  },
  {
   "cell_type": "markdown",
   "metadata": {},
   "source": [
    "### Q7. Write a strategy to convert a number in base N to base M in plain english or psedo code or code\n",
    "\n"
   ]
  },
  {
   "cell_type": "code",
   "execution_count": 79,
   "metadata": {},
   "outputs": [
    {
     "data": {
      "text/plain": [
       "'4552'"
      ]
     },
     "execution_count": 79,
     "metadata": {},
     "output_type": "execute_result"
    }
   ],
   "source": [
    "conv_num_to_base_n(\"B5A\", 7, glyphs_base)"
   ]
  },
  {
   "cell_type": "markdown",
   "metadata": {},
   "source": [
    "### Q8: In base 10, how many numbers can you represent in 5 digits?"
   ]
  },
  {
   "cell_type": "code",
   "execution_count": 80,
   "metadata": {},
   "outputs": [
    {
     "data": {
      "text/plain": [
       "100000"
      ]
     },
     "execution_count": 80,
     "metadata": {},
     "output_type": "execute_result"
    }
   ],
   "source": [
    "10**5"
   ]
  },
  {
   "cell_type": "markdown",
   "metadata": {},
   "source": [
    "### Q9: In base 7, how many numbers can you represent in 5 digits?"
   ]
  },
  {
   "cell_type": "code",
   "execution_count": 82,
   "metadata": {},
   "outputs": [
    {
     "data": {
      "text/plain": [
       "16807"
      ]
     },
     "execution_count": 82,
     "metadata": {},
     "output_type": "execute_result"
    }
   ],
   "source": [
    "7**5"
   ]
  },
  {
   "cell_type": "markdown",
   "metadata": {},
   "source": [
    "### Q10: Write your own algorithm or strategy to find log10. You can use 10**x.\n",
    "\n"
   ]
  },
  {
   "cell_type": "code",
   "execution_count": 32,
   "metadata": {},
   "outputs": [
    {
     "name": "stdout",
     "output_type": "stream",
     "text": [
      "4.0283203125\n"
     ]
    }
   ],
   "source": [
    "print(cal_log10(10673))"
   ]
  },
  {
   "cell_type": "code",
   "execution_count": 33,
   "metadata": {},
   "outputs": [
    {
     "data": {
      "text/plain": [
       "4.028286509426278"
      ]
     },
     "execution_count": 33,
     "metadata": {},
     "output_type": "execute_result"
    }
   ],
   "source": [
    "import math\n",
    "math.log10(10673)"
   ]
  },
  {
   "cell_type": "code",
   "execution_count": null,
   "metadata": {},
   "outputs": [],
   "source": []
  }
 ],
 "metadata": {
  "kernelspec": {
   "display_name": "Python3.10",
   "language": "python",
   "name": "python3.10"
  },
  "language_info": {
   "codemirror_mode": {
    "name": "ipython",
    "version": 3
   },
   "file_extension": ".py",
   "mimetype": "text/x-python",
   "name": "python",
   "nbconvert_exporter": "python",
   "pygments_lexer": "ipython3",
   "version": "3.10.14"
  },
  "toc": {
   "base_numbering": 1,
   "nav_menu": {},
   "number_sections": true,
   "sideBar": true,
   "skip_h1_title": false,
   "title_cell": "Table of Contents",
   "title_sidebar": "Contents",
   "toc_cell": false,
   "toc_position": {},
   "toc_section_display": true,
   "toc_window_display": false
  }
 },
 "nbformat": 4,
 "nbformat_minor": 2
}

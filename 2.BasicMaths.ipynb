{
 "cells": [
  {
   "cell_type": "markdown",
   "metadata": {},
   "source": [
    "### Q1. Create a condition on x1, x2 and x where print True if x is on the line joining x1 and x2"
   ]
  },
  {
   "cell_type": "code",
   "execution_count": 35,
   "metadata": {},
   "outputs": [],
   "source": [
    "def is_between(num1, num2, num): \n",
    "    lnum,snum = (num1,num2) if num1>=num2 else (num2,num1)\n",
    "    return ((lnum-snum)>=(lnum-num)) and (lnum-snum)>=(num-snum)"
   ]
  },
  {
   "cell_type": "code",
   "execution_count": 36,
   "metadata": {},
   "outputs": [
    {
     "data": {
      "text/plain": [
       "True"
      ]
     },
     "execution_count": 36,
     "metadata": {},
     "output_type": "execute_result"
    }
   ],
   "source": [
    "is_between(1,2,1.5)"
   ]
  },
  {
   "cell_type": "markdown",
   "metadata": {},
   "source": [
    "### Q2. Two lines x1 --> x2 and x3 --> x4, print True, if overlapping or touching otherwise print False\n"
   ]
  },
  {
   "cell_type": "code",
   "execution_count": 37,
   "metadata": {},
   "outputs": [],
   "source": [
    "def is_twolines_overlap (x1, x2, x3, x4):\n",
    "    if (is_between(x1,x2,x3) or is_between(x1,x2,x4) or is_between(x3,x4,x1) or is_between(x3,x4,x2)):\n",
    "        return True \n",
    "    else:\n",
    "        return False"
   ]
  },
  {
   "cell_type": "code",
   "execution_count": 38,
   "metadata": {},
   "outputs": [
    {
     "data": {
      "text/plain": [
       "True"
      ]
     },
     "execution_count": 38,
     "metadata": {},
     "output_type": "execute_result"
    }
   ],
   "source": [
    "is_twolines_overlap(1,2,1,5)"
   ]
  },
  {
   "cell_type": "markdown",
   "metadata": {},
   "source": [
    "### Q3. Tower of Hanoi"
   ]
  },
  {
   "cell_type": "code",
   "execution_count": 134,
   "metadata": {},
   "outputs": [],
   "source": [
    "# hit and trial at this link helped to come up with this strategy - \n",
    "# https://www.mathsisfun.com/games/towerofhanoi.html"
   ]
  },
  {
   "cell_type": "code",
   "execution_count": 130,
   "metadata": {
    "code_folding": [
     0
    ]
   },
   "outputs": [],
   "source": [
    "def move_tower_of_hanoi(num_disks):\n",
    "    arr1 = list(range(num_disks,0,-1))\n",
    "    arr2=[]\n",
    "    arr3 = []\n",
    "    is_clws = True\n",
    "    last_moved = -1\n",
    "    iterations = 0\n",
    "    return move_disks(arr1, arr2, arr3, num_disks, is_clws, last_moved, iterations)"
   ]
  },
  {
   "cell_type": "code",
   "execution_count": 131,
   "metadata": {
    "code_folding": [
     0
    ]
   },
   "outputs": [],
   "source": [
    "def move_disks(arr1, arr2, arr3, num_disks, is_clws, last_moved, iterations):\n",
    "    if(len(arr3) == num_disks):\n",
    "        return arr3\n",
    "    elif(is_clws and gle_list(arr1)<gle_list(arr2) and last_moved != arr1[-1]):\n",
    "        last_moved = arr1[-1]\n",
    "        arr2.append(arr1[-1])\n",
    "        arr1.pop()\n",
    "    elif(is_clws and gle_list(arr1)<gle_list(arr3) and last_moved != arr1[-1]):\n",
    "        last_moved = arr1[-1]\n",
    "        arr3.append(arr1[-1])\n",
    "        arr1.pop()\n",
    "    elif(is_clws and gle_list(arr2)<gle_list(arr3) and last_moved != arr2[-1]):\n",
    "        last_moved = arr2[-1]\n",
    "        arr3.append(arr2[-1])\n",
    "        arr2.pop()  \n",
    "    elif(not is_clws and gle_list(arr3)<gle_list(arr2) and last_moved != arr3[-1]):\n",
    "        last_moved = arr3[-1]\n",
    "        arr2.append(arr3[-1])\n",
    "        arr3.pop() \n",
    "    elif(not is_clws and gle_list(arr3)<gle_list(arr1) and last_moved != arr3[-1]):\n",
    "        last_moved = arr3[-1]\n",
    "        arr1.append(arr3[-1])\n",
    "        arr3.pop()\n",
    "    elif(not is_clws and gle_list(arr2)<gle_list(arr1) and last_moved != arr2[-1]):\n",
    "        last_moved = arr2[-1]\n",
    "        arr1.append(arr2[-1])\n",
    "        arr2.pop()\n",
    "    else:\n",
    "        is_clws = not is_clws\n",
    "        #print (is_clws)\n",
    "    iterations+=1    \n",
    "    print (f\"arr1 = {arr1}, arr2 = {arr2}, arr3 = {arr3}, num_iteration = {iterations}\")\n",
    "    return move_disks(arr1, arr2, arr3, num_disks, is_clws, last_moved, iterations)"
   ]
  },
  {
   "cell_type": "code",
   "execution_count": 132,
   "metadata": {
    "code_folding": [
     0
    ]
   },
   "outputs": [],
   "source": [
    "def gle_list(arr):\n",
    "    last_element = arr[-1] if len(arr)>0 else 10000\n",
    "    #print(f\"lastel = {last_element}\")\n",
    "    return last_element"
   ]
  },
  {
   "cell_type": "code",
   "execution_count": 133,
   "metadata": {},
   "outputs": [
    {
     "name": "stdout",
     "output_type": "stream",
     "text": [
      "arr1 = [5, 4, 3, 2], arr2 = [1], arr3 = [], num_iteration = 1\n",
      "arr1 = [5, 4, 3], arr2 = [1], arr3 = [2], num_iteration = 2\n",
      "arr1 = [5, 4, 3], arr2 = [], arr3 = [2, 1], num_iteration = 3\n",
      "arr1 = [5, 4], arr2 = [3], arr3 = [2, 1], num_iteration = 4\n",
      "arr1 = [5, 4], arr2 = [3], arr3 = [2, 1], num_iteration = 5\n",
      "arr1 = [5, 4], arr2 = [3, 1], arr3 = [2], num_iteration = 6\n",
      "arr1 = [5, 4, 2], arr2 = [3, 1], arr3 = [], num_iteration = 7\n",
      "arr1 = [5, 4, 2, 1], arr2 = [3], arr3 = [], num_iteration = 8\n",
      "arr1 = [5, 4, 2, 1], arr2 = [3], arr3 = [], num_iteration = 9\n",
      "arr1 = [5, 4, 2, 1], arr2 = [], arr3 = [3], num_iteration = 10\n",
      "arr1 = [5, 4, 2], arr2 = [1], arr3 = [3], num_iteration = 11\n",
      "arr1 = [5, 4], arr2 = [1], arr3 = [3, 2], num_iteration = 12\n",
      "arr1 = [5, 4], arr2 = [], arr3 = [3, 2, 1], num_iteration = 13\n",
      "arr1 = [5], arr2 = [4], arr3 = [3, 2, 1], num_iteration = 14\n",
      "arr1 = [5], arr2 = [4], arr3 = [3, 2, 1], num_iteration = 15\n",
      "arr1 = [5], arr2 = [4, 1], arr3 = [3, 2], num_iteration = 16\n",
      "arr1 = [5, 2], arr2 = [4, 1], arr3 = [3], num_iteration = 17\n",
      "arr1 = [5, 2, 1], arr2 = [4], arr3 = [3], num_iteration = 18\n",
      "arr1 = [5, 2, 1], arr2 = [4, 3], arr3 = [], num_iteration = 19\n",
      "arr1 = [5, 2, 1], arr2 = [4, 3], arr3 = [], num_iteration = 20\n",
      "arr1 = [5, 2], arr2 = [4, 3, 1], arr3 = [], num_iteration = 21\n",
      "arr1 = [5], arr2 = [4, 3, 1], arr3 = [2], num_iteration = 22\n",
      "arr1 = [5], arr2 = [4, 3], arr3 = [2, 1], num_iteration = 23\n",
      "arr1 = [5], arr2 = [4, 3], arr3 = [2, 1], num_iteration = 24\n",
      "arr1 = [5, 3], arr2 = [4], arr3 = [2, 1], num_iteration = 25\n",
      "arr1 = [5, 3], arr2 = [4, 1], arr3 = [2], num_iteration = 26\n",
      "arr1 = [5, 3, 2], arr2 = [4, 1], arr3 = [], num_iteration = 27\n",
      "arr1 = [5, 3, 2, 1], arr2 = [4], arr3 = [], num_iteration = 28\n",
      "arr1 = [5, 3, 2, 1], arr2 = [4], arr3 = [], num_iteration = 29\n",
      "arr1 = [5, 3, 2, 1], arr2 = [], arr3 = [4], num_iteration = 30\n",
      "arr1 = [5, 3, 2], arr2 = [1], arr3 = [4], num_iteration = 31\n",
      "arr1 = [5, 3], arr2 = [1], arr3 = [4, 2], num_iteration = 32\n",
      "arr1 = [5, 3], arr2 = [], arr3 = [4, 2, 1], num_iteration = 33\n",
      "arr1 = [5], arr2 = [3], arr3 = [4, 2, 1], num_iteration = 34\n",
      "arr1 = [5], arr2 = [3], arr3 = [4, 2, 1], num_iteration = 35\n",
      "arr1 = [5], arr2 = [3, 1], arr3 = [4, 2], num_iteration = 36\n",
      "arr1 = [5, 2], arr2 = [3, 1], arr3 = [4], num_iteration = 37\n",
      "arr1 = [5, 2, 1], arr2 = [3], arr3 = [4], num_iteration = 38\n",
      "arr1 = [5, 2, 1], arr2 = [3], arr3 = [4], num_iteration = 39\n",
      "arr1 = [5, 2, 1], arr2 = [], arr3 = [4, 3], num_iteration = 40\n",
      "arr1 = [5, 2], arr2 = [1], arr3 = [4, 3], num_iteration = 41\n",
      "arr1 = [5], arr2 = [1], arr3 = [4, 3, 2], num_iteration = 42\n",
      "arr1 = [5], arr2 = [], arr3 = [4, 3, 2, 1], num_iteration = 43\n",
      "arr1 = [], arr2 = [5], arr3 = [4, 3, 2, 1], num_iteration = 44\n",
      "arr1 = [], arr2 = [5], arr3 = [4, 3, 2, 1], num_iteration = 45\n",
      "arr1 = [], arr2 = [5, 1], arr3 = [4, 3, 2], num_iteration = 46\n",
      "arr1 = [2], arr2 = [5, 1], arr3 = [4, 3], num_iteration = 47\n",
      "arr1 = [2, 1], arr2 = [5], arr3 = [4, 3], num_iteration = 48\n",
      "arr1 = [2, 1], arr2 = [5, 3], arr3 = [4], num_iteration = 49\n",
      "arr1 = [2, 1], arr2 = [5, 3], arr3 = [4], num_iteration = 50\n",
      "arr1 = [2], arr2 = [5, 3, 1], arr3 = [4], num_iteration = 51\n",
      "arr1 = [], arr2 = [5, 3, 1], arr3 = [4, 2], num_iteration = 52\n",
      "arr1 = [], arr2 = [5, 3], arr3 = [4, 2, 1], num_iteration = 53\n",
      "arr1 = [], arr2 = [5, 3], arr3 = [4, 2, 1], num_iteration = 54\n",
      "arr1 = [3], arr2 = [5], arr3 = [4, 2, 1], num_iteration = 55\n",
      "arr1 = [3], arr2 = [5, 1], arr3 = [4, 2], num_iteration = 56\n",
      "arr1 = [3, 2], arr2 = [5, 1], arr3 = [4], num_iteration = 57\n",
      "arr1 = [3, 2, 1], arr2 = [5], arr3 = [4], num_iteration = 58\n",
      "arr1 = [3, 2, 1], arr2 = [5, 4], arr3 = [], num_iteration = 59\n",
      "arr1 = [3, 2, 1], arr2 = [5, 4], arr3 = [], num_iteration = 60\n",
      "arr1 = [3, 2], arr2 = [5, 4, 1], arr3 = [], num_iteration = 61\n",
      "arr1 = [3], arr2 = [5, 4, 1], arr3 = [2], num_iteration = 62\n",
      "arr1 = [3], arr2 = [5, 4], arr3 = [2, 1], num_iteration = 63\n",
      "arr1 = [], arr2 = [5, 4, 3], arr3 = [2, 1], num_iteration = 64\n",
      "arr1 = [], arr2 = [5, 4, 3], arr3 = [2, 1], num_iteration = 65\n",
      "arr1 = [], arr2 = [5, 4, 3, 1], arr3 = [2], num_iteration = 66\n",
      "arr1 = [2], arr2 = [5, 4, 3, 1], arr3 = [], num_iteration = 67\n",
      "arr1 = [2, 1], arr2 = [5, 4, 3], arr3 = [], num_iteration = 68\n",
      "arr1 = [2, 1], arr2 = [5, 4, 3], arr3 = [], num_iteration = 69\n",
      "arr1 = [2, 1], arr2 = [5, 4], arr3 = [3], num_iteration = 70\n",
      "arr1 = [2], arr2 = [5, 4, 1], arr3 = [3], num_iteration = 71\n",
      "arr1 = [], arr2 = [5, 4, 1], arr3 = [3, 2], num_iteration = 72\n",
      "arr1 = [], arr2 = [5, 4], arr3 = [3, 2, 1], num_iteration = 73\n",
      "arr1 = [], arr2 = [5, 4], arr3 = [3, 2, 1], num_iteration = 74\n",
      "arr1 = [4], arr2 = [5], arr3 = [3, 2, 1], num_iteration = 75\n",
      "arr1 = [4], arr2 = [5, 1], arr3 = [3, 2], num_iteration = 76\n",
      "arr1 = [4, 2], arr2 = [5, 1], arr3 = [3], num_iteration = 77\n",
      "arr1 = [4, 2, 1], arr2 = [5], arr3 = [3], num_iteration = 78\n",
      "arr1 = [4, 2, 1], arr2 = [5, 3], arr3 = [], num_iteration = 79\n",
      "arr1 = [4, 2, 1], arr2 = [5, 3], arr3 = [], num_iteration = 80\n",
      "arr1 = [4, 2], arr2 = [5, 3, 1], arr3 = [], num_iteration = 81\n",
      "arr1 = [4], arr2 = [5, 3, 1], arr3 = [2], num_iteration = 82\n",
      "arr1 = [4], arr2 = [5, 3], arr3 = [2, 1], num_iteration = 83\n",
      "arr1 = [4], arr2 = [5, 3], arr3 = [2, 1], num_iteration = 84\n",
      "arr1 = [4, 3], arr2 = [5], arr3 = [2, 1], num_iteration = 85\n",
      "arr1 = [4, 3], arr2 = [5, 1], arr3 = [2], num_iteration = 86\n",
      "arr1 = [4, 3, 2], arr2 = [5, 1], arr3 = [], num_iteration = 87\n",
      "arr1 = [4, 3, 2, 1], arr2 = [5], arr3 = [], num_iteration = 88\n",
      "arr1 = [4, 3, 2, 1], arr2 = [5], arr3 = [], num_iteration = 89\n",
      "arr1 = [4, 3, 2, 1], arr2 = [], arr3 = [5], num_iteration = 90\n",
      "arr1 = [4, 3, 2], arr2 = [1], arr3 = [5], num_iteration = 91\n",
      "arr1 = [4, 3], arr2 = [1], arr3 = [5, 2], num_iteration = 92\n",
      "arr1 = [4, 3], arr2 = [], arr3 = [5, 2, 1], num_iteration = 93\n",
      "arr1 = [4], arr2 = [3], arr3 = [5, 2, 1], num_iteration = 94\n",
      "arr1 = [4], arr2 = [3], arr3 = [5, 2, 1], num_iteration = 95\n",
      "arr1 = [4], arr2 = [3, 1], arr3 = [5, 2], num_iteration = 96\n",
      "arr1 = [4, 2], arr2 = [3, 1], arr3 = [5], num_iteration = 97\n",
      "arr1 = [4, 2, 1], arr2 = [3], arr3 = [5], num_iteration = 98\n",
      "arr1 = [4, 2, 1], arr2 = [3], arr3 = [5], num_iteration = 99\n",
      "arr1 = [4, 2, 1], arr2 = [], arr3 = [5, 3], num_iteration = 100\n",
      "arr1 = [4, 2], arr2 = [1], arr3 = [5, 3], num_iteration = 101\n",
      "arr1 = [4], arr2 = [1], arr3 = [5, 3, 2], num_iteration = 102\n",
      "arr1 = [4], arr2 = [], arr3 = [5, 3, 2, 1], num_iteration = 103\n",
      "arr1 = [], arr2 = [4], arr3 = [5, 3, 2, 1], num_iteration = 104\n",
      "arr1 = [], arr2 = [4], arr3 = [5, 3, 2, 1], num_iteration = 105\n",
      "arr1 = [], arr2 = [4, 1], arr3 = [5, 3, 2], num_iteration = 106\n",
      "arr1 = [2], arr2 = [4, 1], arr3 = [5, 3], num_iteration = 107\n",
      "arr1 = [2, 1], arr2 = [4], arr3 = [5, 3], num_iteration = 108\n",
      "arr1 = [2, 1], arr2 = [4, 3], arr3 = [5], num_iteration = 109\n",
      "arr1 = [2, 1], arr2 = [4, 3], arr3 = [5], num_iteration = 110\n",
      "arr1 = [2], arr2 = [4, 3, 1], arr3 = [5], num_iteration = 111\n",
      "arr1 = [], arr2 = [4, 3, 1], arr3 = [5, 2], num_iteration = 112\n",
      "arr1 = [], arr2 = [4, 3], arr3 = [5, 2, 1], num_iteration = 113\n",
      "arr1 = [], arr2 = [4, 3], arr3 = [5, 2, 1], num_iteration = 114\n",
      "arr1 = [3], arr2 = [4], arr3 = [5, 2, 1], num_iteration = 115\n",
      "arr1 = [3], arr2 = [4, 1], arr3 = [5, 2], num_iteration = 116\n",
      "arr1 = [3, 2], arr2 = [4, 1], arr3 = [5], num_iteration = 117\n",
      "arr1 = [3, 2, 1], arr2 = [4], arr3 = [5], num_iteration = 118\n",
      "arr1 = [3, 2, 1], arr2 = [4], arr3 = [5], num_iteration = 119\n",
      "arr1 = [3, 2, 1], arr2 = [], arr3 = [5, 4], num_iteration = 120\n",
      "arr1 = [3, 2], arr2 = [1], arr3 = [5, 4], num_iteration = 121\n",
      "arr1 = [3], arr2 = [1], arr3 = [5, 4, 2], num_iteration = 122\n",
      "arr1 = [3], arr2 = [], arr3 = [5, 4, 2, 1], num_iteration = 123\n",
      "arr1 = [], arr2 = [3], arr3 = [5, 4, 2, 1], num_iteration = 124\n",
      "arr1 = [], arr2 = [3], arr3 = [5, 4, 2, 1], num_iteration = 125\n",
      "arr1 = [], arr2 = [3, 1], arr3 = [5, 4, 2], num_iteration = 126\n",
      "arr1 = [2], arr2 = [3, 1], arr3 = [5, 4], num_iteration = 127\n",
      "arr1 = [2, 1], arr2 = [3], arr3 = [5, 4], num_iteration = 128\n",
      "arr1 = [2, 1], arr2 = [3], arr3 = [5, 4], num_iteration = 129\n",
      "arr1 = [2, 1], arr2 = [], arr3 = [5, 4, 3], num_iteration = 130\n",
      "arr1 = [2], arr2 = [1], arr3 = [5, 4, 3], num_iteration = 131\n",
      "arr1 = [], arr2 = [1], arr3 = [5, 4, 3, 2], num_iteration = 132\n",
      "arr1 = [], arr2 = [], arr3 = [5, 4, 3, 2, 1], num_iteration = 133\n"
     ]
    },
    {
     "data": {
      "text/plain": [
       "[5, 4, 3, 2, 1]"
      ]
     },
     "execution_count": 133,
     "metadata": {},
     "output_type": "execute_result"
    }
   ],
   "source": [
    "move_tower_of_hanoi(5)"
   ]
  },
  {
   "cell_type": "markdown",
   "metadata": {},
   "source": [
    "### Q4. Write SQ method, Write you own code to do SQRT"
   ]
  },
  {
   "cell_type": "code",
   "execution_count": 83,
   "metadata": {
    "code_folding": [
     0
    ]
   },
   "outputs": [],
   "source": [
    "def cal_sqrt(num):\n",
    "    num_len = len(str(int(num)))\n",
    "    fixed_num_length = num_len if num_len%2 == 0 else num_len+1\n",
    "    end = 10**(fixed_num_length/2)\n",
    "    start = end/10\n",
    "    #print(f\"{num_len},{fixed_num_length},{end},{start}\")\n",
    "    if start**start == num:\n",
    "        return start\n",
    "    else:\n",
    "        return bf_sqrt(num, start, end)   "
   ]
  },
  {
   "cell_type": "code",
   "execution_count": 88,
   "metadata": {
    "code_folding": [
     0
    ]
   },
   "outputs": [],
   "source": [
    "def bf_sqrt(num, start, end):\n",
    "    calc_val = (start+end)/2\n",
    "    int_calc_val = int(calc_val)\n",
    "    sq_calc_val = calc_val*calc_val\n",
    "    sq_int_calc_val = int_calc_val*int_calc_val\n",
    "    #print(f\"{calc_val},{sq_calc_val},{int_calc_val},{sq_int_calc_val}\")\n",
    "    if num==sq_int_calc_val:\n",
    "        return int_calc_val\n",
    "    elif abs(num-sq_calc_val)<.00001:\n",
    "        return calc_val\n",
    "    elif num>sq_calc_val:\n",
    "        return bf_sqrt(num, calc_val,end)\n",
    "    else:\n",
    "        return bf_sqrt(num, start, calc_val) "
   ]
  },
  {
   "cell_type": "code",
   "execution_count": 119,
   "metadata": {
    "scrolled": false
   },
   "outputs": [
    {
     "name": "stdout",
     "output_type": "stream",
     "text": [
      "Sqrt of num 171.45 is 13.093891888856888. Square of calculated value is 171.4500047970722\n"
     ]
    }
   ],
   "source": [
    "num = 171.45\n",
    "sqrt_val = cal_sqrt(num)\n",
    "\n",
    "print(f\"Sqrt of num {num} is {sqrt_val}. Square of calculated value is {sqrt_val*sqrt_val}\")"
   ]
  },
  {
   "cell_type": "markdown",
   "metadata": {},
   "source": [
    "### Q5. First write you own method to cube and then do cube root"
   ]
  },
  {
   "cell_type": "code",
   "execution_count": 97,
   "metadata": {},
   "outputs": [],
   "source": [
    "def calc_cube(num):\n",
    "    return num*num*num"
   ]
  },
  {
   "cell_type": "code",
   "execution_count": 112,
   "metadata": {
    "code_folding": [
     0
    ]
   },
   "outputs": [],
   "source": [
    "def cal_cuberoot(num):\n",
    "    num_len = len(str(int(num)))\n",
    "    fixed_num_length = num_len if num_len%3 == 0 else num_len+1\n",
    "    end = 10**(fixed_num_length/3)\n",
    "    start = end/10\n",
    "    #print(f\"{num_len},{fixed_num_length},{end},{start}\")\n",
    "    if calc_cube(start) == num:\n",
    "        return start\n",
    "    else:\n",
    "        return bf_cuberoot(num, start, end)   "
   ]
  },
  {
   "cell_type": "code",
   "execution_count": 113,
   "metadata": {
    "code_folding": [
     0
    ]
   },
   "outputs": [],
   "source": [
    "def bf_cuberoot(num, start, end):\n",
    "    calc_val = (start+end)/2\n",
    "    int_calc_val = int(calc_val)\n",
    "    cb_calc_val = calc_cube(calc_val)\n",
    "    cb_int_calc_val = calc_cube(int_calc_val)\n",
    "    #print(f\"{calc_val},{cb_calc_val},{int_calc_val},{cb_int_calc_val}\")\n",
    "    if num==cb_int_calc_val:\n",
    "        return int_calc_val\n",
    "    elif abs(num-cb_calc_val)<.00001:\n",
    "        return calc_val\n",
    "    elif num>cb_calc_val:\n",
    "        return bf_cuberoot(num, calc_val,end)\n",
    "    else:\n",
    "        return bf_cuberoot(num, start, calc_val) "
   ]
  },
  {
   "cell_type": "code",
   "execution_count": 120,
   "metadata": {},
   "outputs": [
    {
     "name": "stdout",
     "output_type": "stream",
     "text": [
      "Cube root of num 10000 is 21.544346895534545. Cube of calculated value is 9999.999993337984\n"
     ]
    }
   ],
   "source": [
    "num = 10000\n",
    "cuberoot_val = cal_cuberoot(num)\n",
    "\n",
    "print(f\"Cube root of num {num} is {cuberoot_val}. Cube of calculated value is {calc_cube(cuberoot_val)}\")"
   ]
  },
  {
   "cell_type": "code",
   "execution_count": null,
   "metadata": {},
   "outputs": [],
   "source": []
  }
 ],
 "metadata": {
  "kernelspec": {
   "display_name": "Python 3",
   "language": "python",
   "name": "python3"
  },
  "language_info": {
   "codemirror_mode": {
    "name": "ipython",
    "version": 3
   },
   "file_extension": ".py",
   "mimetype": "text/x-python",
   "name": "python",
   "nbconvert_exporter": "python",
   "pygments_lexer": "ipython3",
   "version": "3.6.8"
  },
  "toc": {
   "base_numbering": 1,
   "nav_menu": {},
   "number_sections": true,
   "sideBar": true,
   "skip_h1_title": false,
   "title_cell": "Table of Contents",
   "title_sidebar": "Contents",
   "toc_cell": false,
   "toc_position": {},
   "toc_section_display": true,
   "toc_window_display": false
  }
 },
 "nbformat": 4,
 "nbformat_minor": 2
}

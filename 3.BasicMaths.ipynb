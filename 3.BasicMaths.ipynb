{
 "cells": [
  {
   "cell_type": "markdown",
   "id": "4b714c23-9a37-42dd-97ee-db8c14efa3bb",
   "metadata": {},
   "source": [
    "### Q1. Designing thermometer\n",
    "\n",
    "* when current 1, the teperature was 30\n",
    "* when currrent 2, the temperature was 35\n",
    "* when current will be 3, what would be the temperature 40\n",
    "* current = 4, temp = 45\n",
    "* current 2.1, temp = 35.5"
   ]
  },
  {
   "cell_type": "code",
   "execution_count": 4,
   "id": "647073c1-006d-4260-ba35-6903f26a3a07",
   "metadata": {},
   "outputs": [],
   "source": [
    "def tell_temp(calibration_data, current):\n",
    "    m = (calibration_data[1][1]-calibration_data[0][1])/(calibration_data[1][0]-calibration_data[0][0])\n",
    "    c = calibration_data[1][1] - m*calibration_data[1][0]\n",
    "    temperature = m*current + c\n",
    "    return temperature"
   ]
  },
  {
   "cell_type": "code",
   "execution_count": 6,
   "id": "773abea5-d3b1-4431-a45a-7d536376b4f1",
   "metadata": {},
   "outputs": [
    {
     "name": "stdout",
     "output_type": "stream",
     "text": [
      "when current is 3, temperature is 40.0\n",
      "when current is 4, temperature is 45.0\n",
      "when current is 2.1, temperature is 35.5\n"
     ]
    }
   ],
   "source": [
    "calibration_data = [[1,30], [2,35]]\n",
    "print(\"when current is {0}, temperature is {1}\".format(3, tell_temp(calibration_data, 3)))\n",
    "print(\"when current is {0}, temperature is {1}\".format(4, tell_temp(calibration_data, 4)))\n",
    "print(\"when current is {0}, temperature is {1}\".format(2.1, tell_temp(calibration_data, 2.1)))"
   ]
  },
  {
   "cell_type": "markdown",
   "id": "146369b5-aa85-4a69-8029-6e0aa07dd728",
   "metadata": {},
   "source": [
    "### Q2. I want to measure the rate of change of output with respect to input. Slight increase input and observe how much output changes find out the ratio of change of output wrt input"
   ]
  },
  {
   "cell_type": "code",
   "execution_count": 85,
   "id": "4a5cb4fe-549a-4e82-95b5-742b416511e7",
   "metadata": {},
   "outputs": [],
   "source": [
    "def diff(f, x):\n",
    "    delta = 1e-6\n",
    "    y = f(x)\n",
    "    ydelta = f(x+delta)\n",
    "    diff = (ydelta-y)/delta\n",
    "    return diff"
   ]
  },
  {
   "cell_type": "code",
   "execution_count": 91,
   "id": "c2e2924e-e268-4e35-8e55-63a8de55f67b",
   "metadata": {},
   "outputs": [
    {
     "data": {
      "text/plain": [
       "[11.000005999406426,\n",
       " 29.000012006008546,\n",
       " 59.000018012511646,\n",
       " 101.00002401713937,\n",
       " 155.0000300198917]"
      ]
     },
     "execution_count": 91,
     "metadata": {},
     "output_type": "execute_result"
    }
   ],
   "source": [
    "list(map(lambda x:diff(lambda y:2*y**3+5*y, x) ,[1,2,3,4,5]))"
   ]
  },
  {
   "cell_type": "code",
   "execution_count": 93,
   "id": "b0d2a5f6-34d2-4696-8726-5ddd675ba481",
   "metadata": {},
   "outputs": [
    {
     "data": {
      "text/plain": [
       "[11, 29, 59, 101, 155]"
      ]
     },
     "execution_count": 93,
     "metadata": {},
     "output_type": "execute_result"
    }
   ],
   "source": [
    "list(map(lambda x: 6*x**2 + 5,[1,2,3,4,5]))"
   ]
  },
  {
   "cell_type": "code",
   "execution_count": null,
   "id": "93f2a729-2818-4035-8912-44da492a953e",
   "metadata": {},
   "outputs": [],
   "source": []
  }
 ],
 "metadata": {
  "kernelspec": {
   "display_name": "Python 3 (ipykernel)",
   "language": "python",
   "name": "python3"
  },
  "language_info": {
   "codemirror_mode": {
    "name": "ipython",
    "version": 3
   },
   "file_extension": ".py",
   "mimetype": "text/x-python",
   "name": "python",
   "nbconvert_exporter": "python",
   "pygments_lexer": "ipython3",
   "version": "3.12.4"
  }
 },
 "nbformat": 4,
 "nbformat_minor": 5
}

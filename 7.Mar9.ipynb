{
 "cells": [
  {
   "cell_type": "markdown",
   "id": "18fae323-b500-4f17-96f8-02ff32c0ac9c",
   "metadata": {},
   "source": [
    "### Q: Print fibonachi series: 0 1 1 2 3 5 8 13"
   ]
  },
  {
   "cell_type": "code",
   "execution_count": 2,
   "id": "4364d590-7ea1-4631-9fce-4b23a34fa8d9",
   "metadata": {},
   "outputs": [],
   "source": [
    "def get_fibonacci(n):\n",
    "    fibonacci_series = [0,1]\n",
    "    for i in range(n-2):\n",
    "        fibonacci_series.append(fibonacci_series[i]+fibonacci_series[i+1]) \n",
    "    return fibonacci_series"
   ]
  },
  {
   "cell_type": "code",
   "execution_count": 4,
   "id": "0fad7585-f049-401c-9a7a-546cccfb4664",
   "metadata": {},
   "outputs": [
    {
     "data": {
      "text/plain": [
       "[0, 1, 1, 2, 3, 5, 8, 13, 21, 34]"
      ]
     },
     "execution_count": 4,
     "metadata": {},
     "output_type": "execute_result"
    }
   ],
   "source": [
    "get_fibonacci(10)"
   ]
  },
  {
   "cell_type": "markdown",
   "id": "42c7747a-89fd-4a5e-a337-2ebe1961c18a",
   "metadata": {},
   "source": [
    "### Q: Design integer multiplication. Don't use '*\" operator or other library functions for multiplications instead use recursion."
   ]
  },
  {
   "cell_type": "code",
   "execution_count": 17,
   "id": "07afcf50-8807-400d-8f27-f2af8b9bd2cb",
   "metadata": {},
   "outputs": [],
   "source": [
    "def mul(n, m):\n",
    "    if n==0 or m==0:\n",
    "        return 0\n",
    "    if m==1:\n",
    "        return n\n",
    "    else:\n",
    "        return n + mul(n, m-1)"
   ]
  },
  {
   "cell_type": "code",
   "execution_count": 21,
   "id": "ca64f267-234e-43e0-a159-488920f1f9d1",
   "metadata": {},
   "outputs": [
    {
     "data": {
      "text/plain": [
       "70"
      ]
     },
     "execution_count": 21,
     "metadata": {},
     "output_type": "execute_result"
    }
   ],
   "source": [
    "mul(7,10)"
   ]
  },
  {
   "cell_type": "markdown",
   "id": "8cd10ff5-1724-433c-a0b3-963276ea561b",
   "metadata": {},
   "source": [
    "### Q: Design your own pow_int(n,m) which does the n to the power of m where m is an integer using recursion. Do not use the python operator ** or any other library function for power"
   ]
  },
  {
   "cell_type": "code",
   "execution_count": 24,
   "id": "ff499407-e6ea-4f30-b42d-8d7912271ca1",
   "metadata": {},
   "outputs": [],
   "source": [
    "def pow_int(n, m):\n",
    "    if n==0:\n",
    "        return 0\n",
    "    if m==0:\n",
    "        return 1\n",
    "    if m==1:\n",
    "        return n\n",
    "    else:\n",
    "        return n * pow_int(n, m-1)"
   ]
  },
  {
   "cell_type": "code",
   "execution_count": 32,
   "id": "15430193-4ef4-4358-8322-9e8e41d2446a",
   "metadata": {},
   "outputs": [
    {
     "data": {
      "text/plain": [
       "625"
      ]
     },
     "execution_count": 32,
     "metadata": {},
     "output_type": "execute_result"
    }
   ],
   "source": [
    "pow_int(5,4)"
   ]
  },
  {
   "cell_type": "markdown",
   "id": "798b9704-59c3-4530-bcec-df17bfae90f2",
   "metadata": {},
   "source": [
    "### Q: Design division"
   ]
  },
  {
   "cell_type": "code",
   "execution_count": 284,
   "id": "25df19d0-a73c-4bd0-ad7a-3c476641024e",
   "metadata": {},
   "outputs": [],
   "source": [
    "def divide(n, m):\n",
    "    if n==0:\n",
    "        return 0\n",
    "    if m==0:\n",
    "        return \"Zero division exception\"\n",
    "        \n",
    "    is_div_pos = True if (n<0 and m<0) or (n>0 and m>0) else False\n",
    "    \n",
    "    if (abs(n)<abs(m)):\n",
    "        if is_div_pos:\n",
    "            return 0, n\n",
    "        else:\n",
    "            return -1, m+n\n",
    "            \n",
    "    if is_div_pos:\n",
    "        next_dev = divide(n-m, m)\n",
    "        return 1+ next_dev[0],next_dev[1]\n",
    "    else:\n",
    "        next_dev = divide(n+m, m)\n",
    "        return -1+ next_dev[0],next_dev[1]"
   ]
  },
  {
   "cell_type": "code",
   "execution_count": 286,
   "id": "fcd11a35-0afc-460d-b3a8-b10a13bb9595",
   "metadata": {},
   "outputs": [
    {
     "name": "stdout",
     "output_type": "stream",
     "text": [
      "(44, 24) 44 24\n",
      "(6, -3) 6 -3\n",
      "(-7, -1) -7 -1\n",
      "(-7, 1) -7 1\n"
     ]
    }
   ],
   "source": [
    "print(divide(3456,78), 3456//78, 3456%78)\n",
    "print(divide(-27,-4),-27//-4, -27%-4)\n",
    "print(divide(27,-4),27//-4,27%-4)\n",
    "print(divide(-27,4),-27//4, -27%4)"
   ]
  },
  {
   "cell_type": "markdown",
   "id": "85864e65-3d3a-4558-bfb8-fdac171ca9a0",
   "metadata": {},
   "source": [
    "### Q: Handle divison with decimal numbers - use binary search - TBC"
   ]
  },
  {
   "cell_type": "code",
   "execution_count": null,
   "id": "ccd0ca59-8e3c-452b-be43-32ad1e0cbfa6",
   "metadata": {},
   "outputs": [],
   "source": [
    "def divide(n, m):\n",
    "    if n==0:\n",
    "        return 0\n",
    "    if m==0:\n",
    "        return \"Zero division exception\"\n",
    "        \n",
    "    is_div_pos = True if (n<0 and m<0) or (n>0 and m>0) else False\n",
    "    \n",
    "    if (abs(n)<abs(m)):\n",
    "        round_upto = 5\n",
    "        while round_upto > 0:\n",
    "            for i \n",
    "            \n",
    "    if is_div_pos:\n",
    "        return 1+divide(n-m, m)\n",
    "    else:\n",
    "        return -1 + divide(n+m, m)"
   ]
  },
  {
   "cell_type": "code",
   "execution_count": null,
   "id": "4fefeb95-6531-4cd3-a876-b9166601cdd6",
   "metadata": {},
   "outputs": [],
   "source": []
  },
  {
   "cell_type": "code",
   "execution_count": null,
   "id": "489fb67f-f370-41b0-b6b1-9ef76833fd66",
   "metadata": {},
   "outputs": [],
   "source": []
  },
  {
   "cell_type": "markdown",
   "id": "95725318-c94e-4565-bd1d-3392d008cdc5",
   "metadata": {},
   "source": [
    "### Q: Create a recusion based solution to HCF - euclid method"
   ]
  },
  {
   "cell_type": "code",
   "execution_count": 63,
   "id": "3bbdf8b5-91e2-41ed-8697-fc170cde2eef",
   "metadata": {},
   "outputs": [],
   "source": [
    "def hcf(n1, n2):\n",
    "    if n1>n2:\n",
    "        n1,n2 = n2,n1\n",
    "    elif n1==n2:\n",
    "        return n1\n",
    "    return hcf(n1, n2-n1)"
   ]
  },
  {
   "cell_type": "code",
   "execution_count": 65,
   "id": "a3fdaabb-fbb9-4a3b-af70-6e78cf4d62bc",
   "metadata": {},
   "outputs": [
    {
     "data": {
      "text/plain": [
       "21"
      ]
     },
     "execution_count": 65,
     "metadata": {},
     "output_type": "execute_result"
    }
   ],
   "source": [
    "hcf(105,252)"
   ]
  },
  {
   "cell_type": "markdown",
   "id": "2944327f-0dd9-46cd-b765-0726d3e2876f",
   "metadata": {},
   "source": [
    "### Q: Write method to find all prime factors of a number which should be in non-decreasing order:"
   ]
  },
  {
   "cell_type": "code",
   "execution_count": 344,
   "id": "d96360d4-614a-4923-bb87-d83c157425d4",
   "metadata": {},
   "outputs": [],
   "source": [
    "import math\n",
    "def find_factors(num):\n",
    "    factors = []\n",
    "    new_num = num\n",
    "    for i in range(2,int(math.sqrt(num))+1):\n",
    "        while new_num%i == 0:\n",
    "            factors+= [i]\n",
    "            new_num = new_num//i\n",
    "    if new_num>1:\n",
    "        factors+= [new_num]\n",
    "    return factors"
   ]
  },
  {
   "cell_type": "code",
   "execution_count": 356,
   "id": "18893477-a24b-4dc8-9554-9f7d027a9709",
   "metadata": {},
   "outputs": [
    {
     "data": {
      "text/plain": [
       "([2, 2, 3, 3, 13, 19, 127, 1109], 1252375956)"
      ]
     },
     "execution_count": 356,
     "metadata": {},
     "output_type": "execute_result"
    }
   ],
   "source": [
    "find_factors(1252375956), 2*2*3*3*13*19*127*1109"
   ]
  },
  {
   "cell_type": "markdown",
   "id": "6eeb1b63-bf43-4b12-9606-9fa9f7077c25",
   "metadata": {},
   "source": [
    "### Q: Given two lists of numbers in non-decreasing order, find the common numbers"
   ]
  },
  {
   "cell_type": "code",
   "execution_count": 373,
   "id": "bd2eaf69-fa21-4478-9d4a-e1cb3c91a6df",
   "metadata": {},
   "outputs": [],
   "source": [
    "def commons(num1, num2):\n",
    "    comm_num = []\n",
    "    lnum1 = len(num1)\n",
    "    lnum2 = len(num2)\n",
    "    i,j=0,0\n",
    "    while i<lnum1 and j<lnum2:\n",
    "        if num1[i]==num2[j]:\n",
    "            comm_num += [num1[i]]\n",
    "            i+=1\n",
    "            j+=1\n",
    "        elif num1[i]>num2[j]:\n",
    "            j+=1\n",
    "        else:\n",
    "            i+=1\n",
    "    return comm_num"
   ]
  },
  {
   "cell_type": "code",
   "execution_count": 375,
   "id": "59e729d7-b42b-4ee9-98cd-105c258a2cfa",
   "metadata": {},
   "outputs": [
    {
     "data": {
      "text/plain": [
       "[1, 2, 2, 2]"
      ]
     },
     "execution_count": 375,
     "metadata": {},
     "output_type": "execute_result"
    }
   ],
   "source": [
    "commons([1,2, 2, 2, 2], [1,2,2,2, 5, 6])"
   ]
  },
  {
   "cell_type": "markdown",
   "id": "ce24f454-fa67-4512-abfa-226ea88fba62",
   "metadata": {},
   "source": [
    "### Q: Using commons and find_factors in previous exercises, write your own HCF algorithm."
   ]
  },
  {
   "cell_type": "code",
   "execution_count": 382,
   "id": "6eddad81-e71f-4938-87a5-0d6dba48632d",
   "metadata": {},
   "outputs": [],
   "source": [
    "def my_hcf(n1, n2):\n",
    "    fac1 = find_factors(n1)\n",
    "    fac2 = find_factors(n2)\n",
    "    comm_fac = commons(fac1, fac2)\n",
    "    res = 1\n",
    "    for fac in comm_fac:\n",
    "        res = res*fac\n",
    "    return res"
   ]
  },
  {
   "cell_type": "code",
   "execution_count": 384,
   "id": "8374e84e-ef1e-4e2a-849a-038fc886ac83",
   "metadata": {},
   "outputs": [
    {
     "data": {
      "text/plain": [
       "21"
      ]
     },
     "execution_count": 384,
     "metadata": {},
     "output_type": "execute_result"
    }
   ],
   "source": [
    "my_hcf(105,252)"
   ]
  },
  {
   "cell_type": "markdown",
   "id": "2a5067a0-bb38-490f-b975-e73d15d588df",
   "metadata": {},
   "source": [
    "### Q: You have a list of numbers which are sorted. Find the distinct numbers in-place without using any extra memory."
   ]
  },
  {
   "cell_type": "code",
   "execution_count": 399,
   "id": "8ef8fc4a-ee42-48db-aa23-fa6e2dd88963",
   "metadata": {},
   "outputs": [],
   "source": [
    "def dist_elements(arr):\n",
    "    i,j=0,0\n",
    "    while i<len(arr)-1:\n",
    "        if(arr[i]!=arr[j]):\n",
    "            j+=1\n",
    "            arr[j]=arr[i]\n",
    "        i+=1\n",
    "    return arr[:j+1]"
   ]
  },
  {
   "cell_type": "code",
   "execution_count": 401,
   "id": "d6ea2751-0cda-44a0-bfe4-8741042bb763",
   "metadata": {},
   "outputs": [
    {
     "data": {
      "text/plain": [
       "[2, 5, 7]"
      ]
     },
     "execution_count": 401,
     "metadata": {},
     "output_type": "execute_result"
    }
   ],
   "source": [
    "dist_elements([2, 2, 2, 2, 5, 5, 5, 5, 7, 7])"
   ]
  },
  {
   "cell_type": "markdown",
   "id": "f3e1d654-66bb-43ee-96d9-acba5ce2416f",
   "metadata": {},
   "source": [
    "### Q: Write a function to check if parathesis are valid"
   ]
  },
  {
   "cell_type": "code",
   "execution_count": 422,
   "id": "5b1960ce-d209-4925-93bf-01cd3d26d043",
   "metadata": {},
   "outputs": [],
   "source": [
    "def are_valid(str):\n",
    "    br_open = \"({[\"\n",
    "    br_valid = [\"()\", \"{}\", \"[]\"]\n",
    "    temp = []\n",
    "    for c in str:\n",
    "        if (c in br_open):\n",
    "            temp+=[c]\n",
    "        elif len(temp)==0 or (temp[len(temp)-1]+c) not in br_valid:\n",
    "            return False\n",
    "        else:\n",
    "            temp.pop()\n",
    "    if len(temp)>0:\n",
    "        return False\n",
    "    return True"
   ]
  },
  {
   "cell_type": "code",
   "execution_count": 426,
   "id": "a29269a9-b9a0-45b0-a353-ef9e923a4c02",
   "metadata": {},
   "outputs": [
    {
     "data": {
      "text/plain": [
       "(True, True, True, False, False)"
      ]
     },
     "execution_count": 426,
     "metadata": {},
     "output_type": "execute_result"
    }
   ],
   "source": [
    "are_valid(\"\"), are_valid(\"[]\"), are_valid(\"{([()]){}}\"), are_valid(\"}{\"), are_valid(\"{([()]{}}\")"
   ]
  },
  {
   "cell_type": "markdown",
   "id": "7ad23bcc-8f32-4a98-a978-44ede8eb46a6",
   "metadata": {},
   "source": [
    "### Q: There is a list of people, print the unques hand shakes"
   ]
  },
  {
   "cell_type": "code",
   "execution_count": 465,
   "id": "a61cbed4-4d67-4c3c-bdaf-9c3f1ac94a15",
   "metadata": {},
   "outputs": [],
   "source": [
    "def cal_handshake(ppl):\n",
    "    ppl_len = len(ppl)\n",
    "    if(len(ppl)==1 or len(ppl)==0):\n",
    "        return 0\n",
    "    ppl.pop()\n",
    "    return ppl_len-1 + cal_handshake(ppl)"
   ]
  },
  {
   "cell_type": "code",
   "execution_count": 471,
   "id": "d0fd3cc0-2967-47d5-a1e4-ad1e33b42fa1",
   "metadata": {},
   "outputs": [
    {
     "data": {
      "text/plain": [
       "10"
      ]
     },
     "execution_count": 471,
     "metadata": {},
     "output_type": "execute_result"
    }
   ],
   "source": [
    "ppl = [\"A\", \"B\", \"C\", \"D\", \"E\"]\n",
    "cal_handshake(ppl)"
   ]
  },
  {
   "cell_type": "markdown",
   "id": "0700768e-e58a-4d47-826e-6d47b96f57dd",
   "metadata": {},
   "source": [
    "### Q: Solve Equations:"
   ]
  },
  {
   "cell_type": "code",
   "execution_count": 480,
   "id": "164b94e5-97ca-49e2-a144-8b298b04cc7a",
   "metadata": {},
   "outputs": [],
   "source": [
    "def solve_eq(eqns):\n",
    "    if (len(eqns)>1):#reducing equations by 1 with every recursive run\n",
    "        i = 0\n",
    "        while(eqns[i][0] == 0 and i<len(eqns)):\n",
    "            i+=1\n",
    "        \n",
    "        temp = eqns[0]\n",
    "        eqns[0] = eqns[i]\n",
    "        eqns[i] = temp\n",
    "        \n",
    "        new_eqs = []\n",
    "        for i in range(1, len(eqns)):\n",
    "            new_eq = []\n",
    "            for j in range(1, len(eqns[i])):\n",
    "                new_eq.append(eqns[i][j]  - eqns[i][0]*eqns[0][j]/ eqns[0][0]) #replacing value of left most variable in remaining equations. This will leave n-1 equations\n",
    "            new_eqs.append(new_eq)  \n",
    "            \n",
    "        soln = solve_eq(new_eqs) # new_eqs is n-1 equations removing first equation from the list\n",
    "        \n",
    "        if (soln == None):\n",
    "            return None\n",
    "        \n",
    "        #once we get the value of the last variable, using this value solve and calculate other variables in opposite direction\n",
    "        res = eqns[0][-1]\n",
    "        for i in range(len(soln)):\n",
    "            res -= soln[-1-i]*eqns[0][-2-i]\n",
    "        soln = [res/eqns[0][0]] + soln\n",
    "        return soln\n",
    "    if (eqns[0][0] == 0):\n",
    "        return None\n",
    "    return [eqns[0][1]/eqns[0][0]] #when only a single element will be left we can calculate the value of variable"
   ]
  },
  {
   "cell_type": "code",
   "execution_count": 482,
   "id": "f2e18df7-5393-4b22-8939-ea6c221c8a61",
   "metadata": {},
   "outputs": [
    {
     "data": {
      "text/plain": [
       "([1.0, 2.0, 3.0], [-2.0, 5.0], None, [20.0, 0.0, 10.0])"
      ]
     },
     "execution_count": 482,
     "metadata": {},
     "output_type": "execute_result"
    }
   ],
   "source": [
    "solve_eq([[4, 2, 1, 11],[1, -3, -1, -8],[3, 2, 2, 13]]), solve_eq([[0, 1, 5], [1,1,3]]), solve_eq([[1,1,10], [2, 2, 30]]), solve_eq([[0,1,1,10], [1,1,0,20], [1,0,1,30]])"
   ]
  },
  {
   "cell_type": "code",
   "execution_count": null,
   "id": "3e86a74a-8699-4890-a5c7-001470c4cdf1",
   "metadata": {},
   "outputs": [],
   "source": []
  }
 ],
 "metadata": {
  "kernelspec": {
   "display_name": "Python 3 (ipykernel)",
   "language": "python",
   "name": "python3"
  },
  "language_info": {
   "codemirror_mode": {
    "name": "ipython",
    "version": 3
   },
   "file_extension": ".py",
   "mimetype": "text/x-python",
   "name": "python",
   "nbconvert_exporter": "python",
   "pygments_lexer": "ipython3",
   "version": "3.12.4"
  }
 },
 "nbformat": 4,
 "nbformat_minor": 5
}

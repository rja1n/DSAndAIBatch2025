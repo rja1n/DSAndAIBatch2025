{
 "cells": [
  {
   "cell_type": "markdown",
   "id": "7359f6bd-19d8-4f4a-b87e-042cdfdbf120",
   "metadata": {},
   "source": [
    "### Q: You are given two lists of numbers: Actual and Predicted First Code up Mean absolute error and mean squared error."
   ]
  },
  {
   "cell_type": "code",
   "execution_count": 3,
   "id": "96b8fe2f-aedd-4c54-8deb-1d544e5c3e7f",
   "metadata": {},
   "outputs": [],
   "source": [
    "def calc_mean_abs_error(list1, list2):\n",
    "    abs_error_sum = 0\n",
    "    list_len = len(list1)\n",
    "    for i in range(list_len):\n",
    "        abs_error_sum+=abs(list1[i]-list2[i])\n",
    "    return abs_error_sum/list_len"
   ]
  },
  {
   "cell_type": "code",
   "execution_count": 5,
   "id": "894edd89-52c3-41eb-a4ec-2329515719ba",
   "metadata": {},
   "outputs": [],
   "source": [
    "def calc_mean_sqrd_error(list1, list2):\n",
    "    sqrd_error_sum = 0\n",
    "    list_len = len(list1)\n",
    "    for i in range(list_len):\n",
    "        sqrd_error_sum+=(list1[i]-list2[i])**2\n",
    "    return sqrd_error_sum/list_len"
   ]
  },
  {
   "cell_type": "code",
   "execution_count": 7,
   "id": "6a338b89-54cb-43b6-9323-cf2fea31287f",
   "metadata": {},
   "outputs": [
    {
     "name": "stdout",
     "output_type": "stream",
     "text": [
      "1.3333333333333333\n",
      "2.6666666666666665\n"
     ]
    }
   ],
   "source": [
    "a = [5,2,9]\n",
    "b = [3, 2, 11]\n",
    "print(calc_mean_abs_error(a,b))\n",
    "print(calc_mean_sqrd_error(a,b))"
   ]
  },
  {
   "cell_type": "markdown",
   "id": "eb02a1f5-0199-4b29-8966-8836ec793af8",
   "metadata": {},
   "source": [
    "### Q: Come up with your own formula to compare these numbers."
   ]
  },
  {
   "cell_type": "code",
   "execution_count": 21,
   "id": "9beba826-c50b-42f3-a81a-ba5504bf153a",
   "metadata": {},
   "outputs": [],
   "source": [
    "def calc_mean_error_to_power_4(list1, list2):\n",
    "    sqrd_error_sum = 0\n",
    "    list_len = len(list1)\n",
    "    for i in range(list_len):\n",
    "        sqrd_error_sum+=(list1[i]-list2[i])**4\n",
    "    return sqrd_error_sum/list_len"
   ]
  },
  {
   "cell_type": "code",
   "execution_count": 23,
   "id": "5b8dde9c-8a3f-4c45-a9b4-227e2bc42e66",
   "metadata": {},
   "outputs": [
    {
     "name": "stdout",
     "output_type": "stream",
     "text": [
      "10.666666666666666\n"
     ]
    }
   ],
   "source": [
    "a = [5,2,9]\n",
    "b = [3, 2, 11]\n",
    "print(calc_mean_error_to_power_4(a,b))"
   ]
  },
  {
   "cell_type": "code",
   "execution_count": 31,
   "id": "a8c0ca7b-7369-4fa1-942d-fbc97cf641cc",
   "metadata": {},
   "outputs": [
    {
     "name": "stdout",
     "output_type": "stream",
     "text": [
      "1.3333333333333333\n",
      "2.6666666666666665\n",
      "10.666666666666666\n",
      "0.6666666666666666\n",
      "0.6666666666666666\n",
      "0.6666666666666666\n",
      "0.33\n",
      "0.2213666666666667\n",
      "0.13036693666666668\n",
      "0.3\n",
      "0.2166666666666667\n",
      "0.1365666666666667\n"
     ]
    }
   ],
   "source": [
    "a = [5,2,9]\n",
    "b = [3, 2, 11]\n",
    "f = [4, 2, 10]\n",
    "c = [0.5,0.2,0.9]\n",
    "d = [0.3, 0.2, 0.11]\n",
    "e = [0.4, 0.2, 0.10]\n",
    "print(calc_mean_abs_error(a,b))\n",
    "print(calc_mean_sqrd_error(a,b))\n",
    "print(calc_mean_error_to_power_4(a,b))\n",
    "print(calc_mean_abs_error(a,f))\n",
    "print(calc_mean_sqrd_error(a,f))\n",
    "print(calc_mean_error_to_power_4(a,f))\n",
    "print(calc_mean_abs_error(c,d))\n",
    "print(calc_mean_sqrd_error(c,d))\n",
    "print(calc_mean_error_to_power_4(c,d))\n",
    "print(calc_mean_abs_error(c,e))\n",
    "print(calc_mean_sqrd_error(c,e))\n",
    "print(calc_mean_error_to_power_4(c,e))"
   ]
  },
  {
   "cell_type": "markdown",
   "id": "c41d2153-37e5-467f-a19e-c48b74764cbf",
   "metadata": {},
   "source": [
    "### Q: Code knn"
   ]
  },
  {
   "cell_type": "code",
   "execution_count": 62,
   "id": "2da98feb-9969-43f4-900a-ff6e9d3e0f4e",
   "metadata": {},
   "outputs": [],
   "source": [
    "def my_knn(data, x):\n",
    "    knn_index = 0\n",
    "    diff = abs(x-data[0][0])\n",
    "    for i in range(1,len(data)):\n",
    "        new_diff = abs(x-data[i][0])\n",
    "        if (new_diff < diff):\n",
    "            diff, knn_index = new_diff, i\n",
    "        \n",
    "    return data[knn_index][1]"
   ]
  },
  {
   "cell_type": "code",
   "execution_count": 14,
   "id": "57bcc74b-620b-40ae-bd5e-7f9fdfc7d60e",
   "metadata": {},
   "outputs": [
    {
     "data": {
      "text/plain": [
       "20"
      ]
     },
     "execution_count": 14,
     "metadata": {},
     "output_type": "execute_result"
    }
   ],
   "source": [
    "train_data = [[1,10], [2, 20], [3, 30], [10, 110]]\n",
    "my_knn(train_data, 2.5)"
   ]
  },
  {
   "cell_type": "markdown",
   "id": "aebbadbb-a255-402c-a794-c00bbd1c790a",
   "metadata": {},
   "source": [
    "### Q: Compute the abs and squared errors of knn on the train data as above and test data as [[3,4], [9, 100], [5, 55]]"
   ]
  },
  {
   "cell_type": "code",
   "execution_count": 18,
   "id": "1a1c97a9-87ae-415a-b1f7-93bdcf03e01b",
   "metadata": {},
   "outputs": [
    {
     "name": "stdout",
     "output_type": "stream",
     "text": [
      "[30, 110, 30]\n",
      "20.333333333333332\n",
      "467.0\n"
     ]
    }
   ],
   "source": [
    "test_data = [[3,4], [9, 100], [5, 55]]\n",
    "test_data_result = [4,100,55]\n",
    "calc_data_result = [my_knn(train_data, 3),my_knn(train_data, 9), my_knn(train_data, 5)]\n",
    "print(calc_data_result)\n",
    "print(calc_mean_abs_error(test_data_result, calc_data_result))\n",
    "print(calc_mean_sqrd_error(test_data_result, calc_data_result))"
   ]
  },
  {
   "cell_type": "code",
   "execution_count": 45,
   "id": "a33be548-f311-4933-94b8-08977eca00b9",
   "metadata": {},
   "outputs": [
    {
     "data": {
      "text/plain": [
       "4.605170185988092"
      ]
     },
     "execution_count": 45,
     "metadata": {},
     "output_type": "execute_result"
    }
   ],
   "source": [
    "import math\n",
    "math.log(100)"
   ]
  },
  {
   "cell_type": "markdown",
   "id": "acc0d920-0513-49e2-8796-4f8686e88108",
   "metadata": {},
   "source": [
    "### Q:Visually plot the data using https://www.desmos.com/calculator, and try to come up with an approximate stratight line for this train_data mentioned above. Approximate Model i.e. m and c. See: https://www.desmos.com/calculator/evjsqo2dv8\n",
    "\n",
    "Now, find out the total squared and absolute errors of this model"
   ]
  },
  {
   "cell_type": "code",
   "execution_count": 107,
   "id": "104b946c-5353-4c2c-9684-0c561fb561ab",
   "metadata": {},
   "outputs": [],
   "source": [
    "train_data = [[1,10], [2, 20], [3, 30], [10, 110]]\n",
    "test_data_result = [4,100,55]\n",
    "test_data = [3, 9, 5]\n",
    "lr_res = list(map(lambda x: 11.2*x - 2.3, test_data))\n",
    "test_data = [3, 9, 5]\n",
    "knn_res = list(map(lambda x: my_knn(train_data,x), test_data))"
   ]
  },
  {
   "cell_type": "code",
   "execution_count": 109,
   "id": "aed4bc32-2dce-408a-924e-36fc884d263a",
   "metadata": {},
   "outputs": [
    {
     "data": {
      "text/plain": [
       "([31.299999999999994, 98.5, 53.7], [30, 110, 30])"
      ]
     },
     "execution_count": 109,
     "metadata": {},
     "output_type": "execute_result"
    }
   ],
   "source": [
    "lr_res, knn_res"
   ]
  },
  {
   "cell_type": "markdown",
   "id": "16b13e55-4791-4853-9ceb-f92426c86e38",
   "metadata": {},
   "source": [
    "### Q: Compare and discuss the results of knn and linear model based on the two errors."
   ]
  },
  {
   "cell_type": "code",
   "execution_count": 111,
   "id": "ada56a6b-8b97-4c3e-b823-d4be082e1f0e",
   "metadata": {},
   "outputs": [
    {
     "name": "stdout",
     "output_type": "stream",
     "text": [
      "knn_error =  20.333333333333332 467.0\n",
      "lr_error =  10.03333333333333 249.7433333333332\n"
     ]
    }
   ],
   "source": [
    "print(\"knn_error = \", calc_mean_abs_error(test_data_result, knn_res), calc_mean_sqrd_error(test_data_result, knn_res))\n",
    "print(\"lr_error = \", calc_mean_abs_error(test_data_result, lr_res), calc_mean_sqrd_error(test_data_result, lr_res))"
   ]
  },
  {
   "cell_type": "code",
   "execution_count": null,
   "id": "cd931b5a-ca80-440a-b179-0fa6baf4e7ad",
   "metadata": {},
   "outputs": [],
   "source": []
  }
 ],
 "metadata": {
  "kernelspec": {
   "display_name": "Python 3 (ipykernel)",
   "language": "python",
   "name": "python3"
  },
  "language_info": {
   "codemirror_mode": {
    "name": "ipython",
    "version": 3
   },
   "file_extension": ".py",
   "mimetype": "text/x-python",
   "name": "python",
   "nbconvert_exporter": "python",
   "pygments_lexer": "ipython3",
   "version": "3.12.4"
  }
 },
 "nbformat": 4,
 "nbformat_minor": 5
}
